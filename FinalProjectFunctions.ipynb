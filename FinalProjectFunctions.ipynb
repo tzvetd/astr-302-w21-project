{
 "cells": [
  {
   "cell_type": "code",
   "execution_count": 50,
   "metadata": {},
   "outputs": [],
   "source": [
    "#Finalizing the coordinate match module\n",
    "import matplotlib\n",
    "import matplotlib.pyplot as plt\n",
    "import numpy as np\n",
    "from pandas import DataFrame\n",
    "from astropy import units as u\n",
    "from astropy.coordinates import SkyCoord\n",
    "import csv \n",
    "import pandas as pd\n",
    "from astropy.coordinates import match_coordinates_sky\n",
    "from ipywidgets import interact, interactive, fixed, interact_manual\n",
    "import ipywidgets as widgets"
   ]
  },
  {
   "cell_type": "code",
   "execution_count": 51,
   "metadata": {},
   "outputs": [],
   "source": [
    "def match_stars(filename, filename2, sep):\n",
    "    df = pd.read_csv(filename)\n",
    "    RA = df[\"RA\"]\n",
    "    DEC = df[\"DEC\"]\n",
    "    data_rsgRADEC = pd.concat([RA,DEC], axis=1)\n",
    "\n",
    "    df2 = pd.read_csv(filename2)\n",
    "    RAstar = df2[\"RA\"]\n",
    "    DECstar = df2[\"DEC\"]\n",
    "    data2_rsgRADEC = pd.concat([RAstar,DECstar], axis=1)\n",
    "    \n",
    "    rsg_coord = data_rsgRADEC.values.tolist()\n",
    "    c1 = SkyCoord(rsg_coord, frame='icrs', unit= (u.hourangle, u.deg))\n",
    "    \n",
    "    rsg2_coord = data2_rsgRADEC.values.tolist()\n",
    "    c2 = SkyCoord(rsg2_coord, frame='icrs', unit= (u.hourangle, u.deg))\n",
    "    \n",
    "    max_sep = sep * u.arcsec\n",
    "    idx, d2d, d3d = c2.match_to_catalog_sky(c1)\n",
    "    sep_constraint = d2d < max_sep\n",
    "    \n",
    "    c2_matches = c2[sep_constraint]\n",
    "    c1_matches = c1[idx[sep_constraint]]\n",
    "\n",
    "    idx_matches = idx[sep_constraint]\n",
    "    RSG_match = df.iloc[idx_matches]\n",
    "    \n",
    "    angle_sep = d2d[sep_constraint]\n",
    "    angle_sep_df = DataFrame(angle_sep, columns=['sep'])\n",
    "    data_match = RSG_match.join(angle_sep_df.set_index(RSG_match.index), on=RSG_match.index)\n",
    "\n",
    "    distance = d3d[sep_constraint]\n",
    "    distance_df = DataFrame(distance, columns=['distance'])\n",
    "    final_match = data_match.join(distance_df.set_index(RSG_match.index), on=RSG_match.index)\n",
    "        \n",
    "    return final_match"
   ]
  },
  {
   "cell_type": "code",
   "execution_count": 52,
   "metadata": {},
   "outputs": [],
   "source": [
    "matched = match_stars('RSG1.csv','RSGpaper1.csv', 2.0)"
   ]
  },
  {
   "cell_type": "code",
   "execution_count": 53,
   "metadata": {},
   "outputs": [],
   "source": [
    "def hrd(filename, matches, pointsize,pointsize2):\n",
    "    #matching datasets HRD values\n",
    "    data = pd.read_csv(filename)\n",
    "    R =  0.50\n",
    "    reddening = 0.25\n",
    "    distance_modulus = 5*np.log10(R * (10**6))-5\n",
    "    K = data[\"K\"]\n",
    "    JK = data[\"J-K\"]\n",
    "    JK_bb = (JK + 0.11) / 0.972\n",
    "    K_bb = K + 0.044\n",
    "    JK_bb0 = (JK_bb) - 0.54* reddening\n",
    "    K_bb0 = (K_bb) - 0.367*reddening\n",
    "    M_K = K_bb0 - distance_modulus\n",
    "    temp = 5643.5 - (1807.1 * (JK_bb0))\n",
    "    BC_K = 5.567 - (7.5686 * (10**(-4))) * temp\n",
    "    M_bol = BC_K + M_K\n",
    "    luminosity = (M_bol - 4.75) / -2.5\n",
    "    T = np.log10(temp)\n",
    "    L = luminosity\n",
    "    \n",
    "    #matching datasets HRD values\n",
    "    K_match = matches[\"K\"]\n",
    "    JK_match = matches[\"J-K\"]\n",
    "    JK_bb_match = (JK_match + 0.11) / 0.972\n",
    "    K_bb_match = K_match + 0.044\n",
    "    JK_bb0_match = (JK_bb_match) - 0.54* reddening\n",
    "    K_bb0_match = (K_bb_match) - 0.367*reddening\n",
    "    M_K_match = K_bb0_match - distance_modulus\n",
    "    temp_match = 5643.5 - (1807.1 * (JK_bb0_match))\n",
    "    BC_K_match = 5.567 - (7.5686 * (10**(-4))) * temp_match\n",
    "    M_bol_match = BC_K_match + M_K_match\n",
    "    luminosity_match = (M_bol_match - 4.75) / -2.5\n",
    "    T_match = np.log10(temp_match)\n",
    "    L_match = luminosity_match\n",
    "    \n",
    "    #making the plot\n",
    "    fig, ax = plt.subplots(1,1)       \n",
    "    fig.set_size_inches(13,8)\n",
    "    ax.set_xlim(3.5,3.65)\n",
    "    ax.set_ylim(3.9,5.5)\n",
    "    ax.invert_xaxis()\n",
    "    ax.set_xlabel(\"log(temperature)\", fontsize=30)\n",
    "    ax.set_ylabel(\"log(luminosity)\", fontsize=30)\n",
    "    plt.title('HRD of NGC6822 RSG Sample Matches', fontsize=30)\n",
    "\n",
    "    ax.plot(T, L,color= \"pink\", marker=\"o\",linestyle=\"None\",markersize=pointsize, alpha=0.5);\n",
    "    ax.plot(T_match,L_match,color=\"blue\",marker=\"o\",linestyle=\"None\",markersize=pointsize2);"
   ]
  },
  {
   "cell_type": "code",
   "execution_count": 54,
   "metadata": {},
   "outputs": [],
   "source": [
    "def interactive_hrd(filename, matches, pointsize, pointsize2):\n",
    "    interact(hrd, filename = fixed(filename),matches = fixed(matches), pointsize=(0, 10, 1),pointsize2=(0, 10, 1));   "
   ]
  },
  {
   "cell_type": "code",
   "execution_count": 55,
   "metadata": {},
   "outputs": [
    {
     "data": {
      "application/vnd.jupyter.widget-view+json": {
       "model_id": "e2ba3f5e2d754856b75e28c4a938e68e",
       "version_major": 2,
       "version_minor": 0
      },
      "text/plain": [
       "interactive(children=(IntSlider(value=5, description='pointsize', max=10), IntSlider(value=5, description='poi…"
      ]
     },
     "metadata": {},
     "output_type": "display_data"
    }
   ],
   "source": [
    "interactive_hrd('RSG1.csv', matched, 6, 4)"
   ]
  }
 ],
 "metadata": {
  "kernelspec": {
   "display_name": "Python 3",
   "language": "python",
   "name": "python3"
  },
  "language_info": {
   "codemirror_mode": {
    "name": "ipython",
    "version": 3
   },
   "file_extension": ".py",
   "mimetype": "text/x-python",
   "name": "python",
   "nbconvert_exporter": "python",
   "pygments_lexer": "ipython3",
   "version": "3.7.4"
  }
 },
 "nbformat": 4,
 "nbformat_minor": 4
}
